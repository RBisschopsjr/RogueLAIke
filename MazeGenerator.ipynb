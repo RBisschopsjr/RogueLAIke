{
 "cells": [
  {
   "cell_type": "code",
   "execution_count": 1,
   "metadata": {},
   "outputs": [],
   "source": [
    "import numpy as np\n",
    "import random\n",
    "import time"
   ]
  },
  {
   "cell_type": "code",
   "execution_count": 2,
   "metadata": {},
   "outputs": [],
   "source": [
    "def initGrid(n,m):\n",
    "    return np.full((n,m), '*')"
   ]
  },
  {
   "cell_type": "code",
   "execution_count": 3,
   "metadata": {},
   "outputs": [],
   "source": [
    "def printGrid(grid):\n",
    "    print(grid)"
   ]
  },
  {
   "cell_type": "code",
   "execution_count": 4,
   "metadata": {},
   "outputs": [],
   "source": [
    "def generateStart(grid):\n",
    "    circumference = grid.shape[0] + grid.shape[1] - 2\n",
    "    #print(\"Circumference = \", circumference)\n",
    "    startPoint = random.randint(1, circumference)\n",
    "    startTuple = 0\n",
    "    #print(\"Random generated number = \", startPoint)\n",
    "    if(startPoint <= grid.shape[0]):\n",
    "        #print(\"START on vertical wall\")\n",
    "        #print(\"StartPoint = \", startPoint)\n",
    "        if(random.randint(1,2) is 1):\n",
    "            startTuple = [startPoint - 1,0]\n",
    "        else:            \n",
    "            startTuple = [startPoint - 1,grid.shape[1] - 1]\n",
    "    else:\n",
    "        #print(\"START on horizontal wall\")\n",
    "        startPoint = startPoint - grid.shape[0]\n",
    "        #print(\"StartPoint = \", startPoint)\n",
    "        if(random.randint(1,2) is 1):\n",
    "            startTuple = [0, startPoint]\n",
    "        else:\n",
    "            startTuple = [grid.shape[0] - 1, startPoint]\n",
    "    grid[startTuple[0]][startTuple[1]] = 'S'\n",
    "    return grid, startTuple"
   ]
  },
  {
   "cell_type": "code",
   "execution_count": 5,
   "metadata": {
    "scrolled": true
   },
   "outputs": [],
   "source": [
    "def buildPath(gridWithStart, pathLen):\n",
    "    path = [gridWithStart[1]]\n",
    "    #print(\"Start: \", path)\n",
    "    maxDims = gridWithStart[0].shape\n",
    "    #print(\"Dims: \", maxDims)\n",
    "    for i in range(0, pathLen):\n",
    "        path.append(step(maxDims,path))\n",
    "    return path"
   ]
  },
  {
   "cell_type": "code",
   "execution_count": 6,
   "metadata": {},
   "outputs": [],
   "source": [
    "# def listCoords(grid):\n",
    "#     visited = []\n",
    "    "
   ]
  },
  {
   "cell_type": "code",
   "execution_count": 7,
   "metadata": {},
   "outputs": [],
   "source": [
    "def buildPath2(grid, path):\n",
    "    #print(\"Start: \", path)\n",
    "    maxDims = grid.shape\n",
    "    #print(\"Dims: \", maxDims)\n",
    "    stepCheck = True\n",
    "    while(stepCheck):\n",
    "        nextStep = step(maxDims, path)\n",
    "        if(nextStep is None):\n",
    "            stepCheck = False\n",
    "        else:\n",
    "            path.append(nextStep)\n",
    "    return path"
   ]
  },
  {
   "cell_type": "code",
   "execution_count": 8,
   "metadata": {},
   "outputs": [],
   "source": [
    "def outsideGrid(el, gridDims):\n",
    "    if(el[0] >= gridDims[0] or el[1] >= gridDims[1] or el[0] < 0 or el[1] < 0):\n",
    "        #print(\"REMOVAL: \", el, \" outside grid!\")\n",
    "        return True\n",
    "    else:\n",
    "        return False"
   ]
  },
  {
   "cell_type": "code",
   "execution_count": 9,
   "metadata": {},
   "outputs": [],
   "source": [
    "def neighborCheck(el, visited):\n",
    "    prospectiveNBs = [[el[0]-1,el[1]], [el[0]+1,el[1]], [el[0],el[1]-1], [el[0],el[1]+1]]\n",
    "    for nb in prospectiveNBs:\n",
    "        if(nb in visited):\n",
    "            #print(\"REMOVAL: \", el, \", \", nb, \" found in path!\")\n",
    "            return True\n",
    "    return False"
   ]
  },
  {
   "cell_type": "code",
   "execution_count": 10,
   "metadata": {},
   "outputs": [],
   "source": [
    "def step(gridDims, path):\n",
    "    last = path[-1]\n",
    "    visited = path[:-1]\n",
    "    neighbors = [[last[0]-1,last[1]], [last[0]+1,last[1]], [last[0],last[1]-1], [last[0],last[1]+1]]\n",
    "    endOptions = []\n",
    "    #print(\"Initial candidates: \", neighbors)\n",
    "    for el in neighbors:\n",
    "        #print(\"Checking \", el, \"...\")\n",
    "        if(not outsideGrid(el, gridDims) and not el in path and not neighborCheck(el, visited)):\n",
    "            #print(el, \" added to endOptions!\")\n",
    "            endOptions.append(el)\n",
    "    #print(\"Candidates after pruning: \", endOptions)\n",
    "    if(len(endOptions) is not 0):\n",
    "        toAdd = random.choice(endOptions) \n",
    "        #print(\"Adding \", toAdd)\n",
    "        return(toAdd)\n",
    "    else:\n",
    "        return None"
   ]
  },
  {
   "cell_type": "code",
   "execution_count": 11,
   "metadata": {},
   "outputs": [],
   "source": [
    "def drawPath(grid, path):\n",
    "    for el in path[0][1:]:\n",
    "        grid[el[0],el[1]] = 'O'\n",
    "    grid[path[1][0], path[1][1]] = 'E'\n",
    "    return grid"
   ]
  },
  {
   "cell_type": "code",
   "execution_count": 12,
   "metadata": {},
   "outputs": [],
   "source": [
    "def buildMaze(grid, path):\n",
    "    allPaths = buildPath2(grid, path)\n",
    "    endPoint = allPaths[-1]\n",
    "    for i in range (1, len(allPaths)):\n",
    "        el = allPaths[i]\n",
    "        allPaths.append(el) \n",
    "        allPaths.remove(el)\n",
    "        if(random.random() > 0.1):\n",
    "            newPath = buildPath2(grid, allPaths)\n",
    "            #print('New path added', newPath)\n",
    "            allPaths = newPath\n",
    "    for j in range (1, len(allPaths)):\n",
    "        el = allPaths[j]\n",
    "        allPaths.append(el) \n",
    "        allPaths.remove(el)\n",
    "        newPath = buildPath2(grid, allPaths)\n",
    "        #print('New path added', newPath)\n",
    "        allPaths = newPath       \n",
    "    return allPaths, endPoint"
   ]
  },
  {
   "cell_type": "code",
   "execution_count": 13,
   "metadata": {},
   "outputs": [],
   "source": [
    "def playerStep(grid, playerLoc):\n",
    "    previous = playerLoc\n",
    "    keyStep = input('Enter next step:')\n",
    "    if(keyStep = 'w'):\n",
    "        if(grid[playerLoc[0] - 1][playerLoc[1]] is 'O'):\n",
    "            playerLoc = [playerLoc[0] - 1, playerLoc[1]]\n",
    "    else if(keyStep = 'd'):\n",
    "        if(grid[playerLoc[0]][playerLoc[1] + 1] is 'O'):\n",
    "            playerLoc = [playerLoc[0], playerLoc[1] + 1]\n",
    "    else if(keyStep = 'a'):\n",
    "        if(grid[playerLoc[0]][playerLoc[1] - 1] is 'O'):\n",
    "            playerLoc = [playerLoc[0], playerLoc[1] - 1]\n",
    "    else if(keyStep = 's'):\n",
    "        if(grid[playerLoc[0] + 1][playerLoc[1]] is 'O'):\n",
    "            playerLoc = [playerLoc[0] + 1, playerLoc[1]]\n",
    "    grid[previous[0], previous[1]] = 'O'\n",
    "    grid[playerLoc[0], playerLoc[1]] = 'S'    \n",
    "    return grid, playerLoc"
   ]
  },
  {
   "cell_type": "code",
   "execution_count": null,
   "metadata": {},
   "outputs": [],
   "source": [
    "# def playGame():\n",
    "#     maze = initGrid"
   ]
  },
  {
   "cell_type": "code",
   "execution_count": 14,
   "metadata": {},
   "outputs": [
    {
     "name": "stdout",
     "output_type": "stream",
     "text": [
      "[['O' 'O' '*' '*' '*' 'S' 'O' '*' '*' '*' 'O' '*' 'O' 'O' 'O' 'O' 'O' 'O']\n",
      " ['*' 'O' 'O' '*' 'O' '*' 'O' 'O' 'O' 'O' 'O' 'O' 'O' '*' '*' '*' '*' 'O']\n",
      " ['O' '*' 'O' 'O' 'O' 'O' '*' 'O' '*' 'O' '*' '*' '*' 'O' 'O' 'O' '*' 'O']\n",
      " ['O' '*' 'O' '*' '*' 'O' 'O' 'O' '*' 'O' 'O' 'O' '*' 'O' '*' 'O' '*' 'O']\n",
      " ['O' 'O' 'O' 'O' 'O' '*' '*' '*' 'O' 'O' '*' 'O' 'O' 'O' '*' 'O' '*' 'O']\n",
      " ['O' '*' 'O' '*' 'O' '*' 'O' 'O' '*' '*' 'O' '*' '*' '*' 'O' 'O' '*' 'O']\n",
      " ['O' 'O' '*' '*' 'O' '*' 'O' '*' 'O' 'O' 'O' 'O' 'O' '*' 'O' '*' 'O' 'O']\n",
      " ['*' '*' 'O' 'O' 'O' '*' 'O' '*' 'O' '*' '*' '*' 'O' '*' 'O' '*' '*' 'O']\n",
      " ['O' 'O' 'O' '*' '*' 'O' 'O' '*' 'O' 'O' 'O' '*' 'O' 'O' 'O' 'O' '*' 'O']\n",
      " ['O' '*' 'O' '*' 'O' 'O' '*' 'O' 'O' '*' 'O' '*' '*' '*' '*' '*' 'O' 'O']\n",
      " ['O' 'O' '*' 'O' 'O' '*' '*' '*' '*' 'O' 'O' '*' 'O' 'O' '*' 'O' 'O' '*']\n",
      " ['*' 'O' 'O' 'O' '*' 'O' 'O' 'O' '*' 'O' '*' '*' '*' 'O' 'O' 'O' '*' 'O']\n",
      " ['*' '*' '*' '*' 'O' 'O' '*' 'O' 'O' 'O' '*' '*' '*' '*' 'O' '*' 'O' 'O']\n",
      " ['O' 'O' 'O' '*' 'O' '*' '*' '*' 'O' '*' 'O' '*' 'O' 'O' 'O' '*' '*' 'O']\n",
      " ['E' '*' 'O' '*' 'O' '*' '*' 'O' 'O' '*' 'O' 'O' 'O' '*' '*' '*' '*' 'O']\n",
      " ['*' 'O' 'O' '*' 'O' 'O' 'O' '*' '*' '*' 'O' '*' '*' 'O' 'O' 'O' 'O' 'O']\n",
      " ['*' 'O' '*' '*' '*' '*' 'O' 'O' 'O' 'O' '*' 'O' 'O' 'O' '*' '*' 'O' '*']\n",
      " ['O' 'O' '*' '*' 'O' 'O' 'O' '*' '*' 'O' 'O' 'O' '*' '*' '*' '*' 'O' 'O']\n",
      " ['O' '*' 'O' 'O' 'O' '*' '*' 'O' 'O' '*' 'O' '*' 'O' 'O' 'O' 'O' '*' 'O']\n",
      " ['O' 'O' 'O' '*' 'O' 'O' 'O' '*' 'O' 'O' 'O' '*' 'O' '*' '*' 'O' 'O' 'O']]\n"
     ]
    }
   ],
   "source": [
    "maze = initGrid(20,18)\n",
    "# print(maze)\n",
    "mazeWithStart = generateStart(maze)\n",
    "# print(mazeWithStart[0])\n",
    "path = buildMaze(mazeWithStart[0], [mazeWithStart[1]])\n",
    "mazeWithPath = drawPath(mazeWithStart[0], path)\n",
    "print(mazeWithPath)"
   ]
  },
  {
   "cell_type": "code",
   "execution_count": 15,
   "metadata": {},
   "outputs": [],
   "source": [
    "# maze = initGrid(20,18)\n",
    "# # print(maze)\n",
    "# mazeWithStart = generateStart(maze)\n",
    "# # print(mazeWithStart[0])\n",
    "# path = buildMaze(mazeWithStart[0], [mazeWithStart[1]])\n",
    "# mazeWithPath = drawPath(mazeWithStart[0], path)\n",
    "# print(mazeWithPath)"
   ]
  }
 ],
 "metadata": {
  "kernelspec": {
   "display_name": "Python 3",
   "language": "python",
   "name": "python3"
  },
  "language_info": {
   "codemirror_mode": {
    "name": "ipython",
    "version": 3
   },
   "file_extension": ".py",
   "mimetype": "text/x-python",
   "name": "python",
   "nbconvert_exporter": "python",
   "pygments_lexer": "ipython3",
   "version": "3.6.4"
  }
 },
 "nbformat": 4,
 "nbformat_minor": 2
}
